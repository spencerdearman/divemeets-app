{
 "cells": [
  {
   "cell_type": "code",
   "execution_count": 1,
   "metadata": {},
   "outputs": [],
   "source": [
    "import bs4\n",
    "import json\n",
    "import requests\n",
    "from bs4 import BeautifulSoup\n",
    "\n",
    "link = \"https://secure.meetcontrol.com/divemeets/system/index.php\"\n"
   ]
  },
  {
   "cell_type": "code",
   "execution_count": 2,
   "metadata": {},
   "outputs": [],
   "source": [
    "html = requests.get(link).text\n",
    "soup = BeautifulSoup(html, \"html.parser\")\n",
    "tabs = (\n",
    "    soup.find(\"div\", {\"id\": \"dm_menu_centered\"})\n",
    "    .find(\"ul\")\n",
    "    .find_all(\"li\", recursive=False)\n",
    ")\n",
    "tab_dict = {tab.find(\"a\", recursive=False).text: tab for tab in tabs}\n"
   ]
  },
  {
   "cell_type": "code",
   "execution_count": 3,
   "metadata": {},
   "outputs": [],
   "source": [
    "seen_orgs = dict()\n",
    "\n",
    "meets = (\n",
    "    tab_dict[\"Meets\"]\n",
    "    .find(\"ul\", recursive=False)\n",
    "    .find(\"li\", recursive=False)\n",
    "    .find_all(\"a\")[1:]\n",
    ")\n",
    "upcoming_meets = {m.text.strip(): m[\"href\"] for m in meets}\n"
   ]
  },
  {
   "cell_type": "code",
   "execution_count": 4,
   "metadata": {},
   "outputs": [],
   "source": [
    "pmeets = (\n",
    "    tab_dict[\"Meets\"]\n",
    "    .find(\"ul\", recursive=False)\n",
    "    .find_all(\"li\", recursive=False)[1]\n",
    "    .find_all(\"a\")[1:]\n",
    ")\n",
    "past_meets = dict()\n",
    "last_key = None\n",
    "for a in pmeets:\n",
    "    if a[\"href\"] == \"#\":\n",
    "        last_key = a.text\n",
    "        past_meets[last_key] = dict()\n",
    "    else:\n",
    "        past_meets[last_key][a.text.strip()] = a[\"href\"]\n"
   ]
  },
  {
   "cell_type": "code",
   "execution_count": 5,
   "metadata": {},
   "outputs": [],
   "source": [
    "# with open(\"upcoming_meets.json\", \"w\") as f:\n",
    "#     json.dump(upcoming_meets, f)\n",
    "\n",
    "# with open(\"past_meets.json\", \"w\") as f:\n",
    "#     json.dump(past_meets, f)\n"
   ]
  },
  {
   "cell_type": "code",
   "execution_count": 6,
   "metadata": {},
   "outputs": [],
   "source": [
    "parse_link =\"https://secure.meetcontrol.com/divemeets/system/profile.php?number=56961\" \n",
    "soup = BeautifulSoup(requests.get(parse_link).text, \"html.parser\")\n",
    "result = soup.find(\"td\").text\n",
    "name_split = result.split(\"Name: \")[1].split(\"City/State: \")\n",
    "name = name_split[0]\n",
    "city_split = name_split[1].split(\"Country: \")\n",
    "city = city_split[0]\n",
    "country_split = city_split[1].split(\"Gender: \")\n",
    "country = country_split[0]\n",
    "age_split = country_split[1].split(\"FINA Age: \")\n",
    "gender_split = age_split[0].split(\"Age: \")\n",
    "gender = gender_split[0]\n",
    "age = gender_split[1]\n",
    "fina_age_split = age_split[1].split(\"High School Graduation: \")\n",
    "fina_age = fina_age_split[0]\n",
    "hs_grad_split = fina_age_split[1].split(\"DiveMeets #: \")\n",
    "hs_grad = hs_grad_split[0]\n",
    "dm_num = hs_grad_split[1].split(\"Diving:\")[0]"
   ]
  },
  {
   "cell_type": "code",
   "execution_count": 7,
   "metadata": {},
   "outputs": [
    {
     "data": {
      "text/plain": [
       "{'Name': 'Logan Sherwin',\n",
       " 'City/State': 'Harrison City PA',\n",
       " 'Country': 'United States',\n",
       " 'Gender': 'M',\n",
       " 'Age': '21',\n",
       " 'FINA Age': '22',\n",
       " 'High School Graduation': '2019',\n",
       " 'DiveMeets #': '56961',\n",
       " 'Organizations': {'Amateur Athletic Union (AAU)': {'Team': 'Pitt Aquatic Club (Diver)',\n",
       "   'Coach': 'Santos Jesus',\n",
       "   'Link': 'https://secure.meetcontrol.com/divemeets/system/profilec.php?number=56797'},\n",
       "  'National Collegiate Athletic Association (NCAA)': {'Team': 'University of Chicago (Diver)',\n",
       "   'Coach': 'Benson Becky',\n",
       "   'Link': 'https://secure.meetcontrol.com/divemeets/system/profilec.php?number=16241'},\n",
       "  'USA Diving': {'Team': 'Unattached (Diver)',\n",
       "   'Coach': 'Santos Jesus',\n",
       "   'Link': 'https://secure.meetcontrol.com/divemeets/system/profilec.php?number=56797'}}}"
      ]
     },
     "execution_count": 7,
     "metadata": {},
     "output_type": "execute_result"
    }
   ],
   "source": [
    "items = []\n",
    "for i in soup.td.contents:\n",
    "    if i == '\\n':\n",
    "        continue\n",
    "    if isinstance(i, bs4.element.NavigableString):\n",
    "        items.append(i.strip())\n",
    "    elif i.name == 'strong':\n",
    "        items.append(i.text.strip())\n",
    "    elif i.name == 'a':\n",
    "        items.append((i.text.strip(), i['href']))\n",
    "\n",
    "items\n",
    "\n",
    "# ignores \"Diver Profile\" header for now\n",
    "i = 1\n",
    "# Looks for \"Diving:\" line to start parsing teams instead of personal info\n",
    "found_diving = False\n",
    "new_items = {}\n",
    "orgs = {}\n",
    "while i < len(items):\n",
    "    if items[i] == \"Diving:\":\n",
    "        i += 1\n",
    "        found_diving = True\n",
    "    elif not found_diving:\n",
    "        new_items[items[i][:-1]] = items[i+1]\n",
    "        i += 2\n",
    "    else:\n",
    "        coach, link = items[i+3]\n",
    "        link = 'https://secure.meetcontrol.com/divemeets/system/' + link\n",
    "        org = {\"Team\":items[i+1], \"Coach\":coach, \"Link\": link}\n",
    "        orgs[items[i][:-1]] = org\n",
    "        i += 4\n",
    "new_items[\"Organizations\"] = orgs\n",
    "\n",
    "new_items\n"
   ]
  }
 ],
 "metadata": {
  "kernelspec": {
   "display_name": "venv",
   "language": "python",
   "name": "python3"
  },
  "language_info": {
   "codemirror_mode": {
    "name": "ipython",
    "version": 3
   },
   "file_extension": ".py",
   "mimetype": "text/x-python",
   "name": "python",
   "nbconvert_exporter": "python",
   "pygments_lexer": "ipython3",
   "version": "3.10.8"
  },
  "orig_nbformat": 4
 },
 "nbformat": 4,
 "nbformat_minor": 2
}
